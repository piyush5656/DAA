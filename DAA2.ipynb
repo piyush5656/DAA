{
 "cells": [
  {
   "cell_type": "code",
   "execution_count": 2,
   "id": "6345baf2-4d16-4a12-ad11-7c0ed49b96ce",
   "metadata": {},
   "outputs": [],
   "source": [
    "class Item:\n",
    "    def __init__(self, value, weight): \n",
    "        self.value = value \n",
    "        self.weight = weight\n",
    "\n",
    "def fractional_knapsack(items, capacity):\n",
    "    items.sort(key=lambda x: x.value / x.weight, reverse=True)\n",
    "    total_value = 0.0 \n",
    "    for item in items:\n",
    "        if capacity == 0:\n",
    "            break\n",
    "        if item.weight <= capacity:\n",
    "            total_value += item.value\n",
    "            capacity - item.weight\n",
    "        else:\n",
    "            total_value += item.value * (capacity / item.weight) \n",
    "            capacity = 0\n",
    "    return total_value"
   ]
  },
  {
   "cell_type": "code",
   "execution_count": 5,
   "id": "c5212776-e372-4429-874b-37dd0ffd8a11",
   "metadata": {},
   "outputs": [
    {
     "name": "stdin",
     "output_type": "stream",
     "text": [
      "Enter number of items:  3\n",
      "Enter value of item 1:  3\n",
      "Enter weight of item 1:  5\n",
      "Enter value of item 2:  4\n",
      "Enter weight of item 2:  7\n",
      "Enter value of item 3:  8\n",
      "Enter weight of item 3:  4\n",
      "Enter capacity of the knapsack:  100\n"
     ]
    },
    {
     "name": "stdout",
     "output_type": "stream",
     "text": [
      "Maximum value in Knapsack = 15.00\n"
     ]
    }
   ],
   "source": [
    "n = int(input(\"Enter number of items: \"))\n",
    "items = []\n",
    "for i in range(n): \n",
    "    value= int(input(f\"Enter value of item {i + 1}: \")) \n",
    "    weight = int(input(f\"Enter weight of item {i + 1}: \")) \n",
    "    items.append(Item(value, weight))\n",
    "capacity = int(input(\"Enter capacity of the knapsack: \"))\n",
    "\n",
    "max_value = fractional_knapsack(items, capacity) \n",
    "print(f\"Maximum value in Knapsack = {max_value:}\")"
   ]
  },
  {
   "cell_type": "code",
   "execution_count": null,
   "id": "aba6395b-4411-4c5b-9680-42d9ff3a628a",
   "metadata": {},
   "outputs": [],
   "source": []
  }
 ],
 "metadata": {
  "kernelspec": {
   "display_name": "Python 3 (ipykernel)",
   "language": "python",
   "name": "python3"
  },
  "language_info": {
   "codemirror_mode": {
    "name": "ipython",
    "version": 3
   },
   "file_extension": ".py",
   "mimetype": "text/x-python",
   "name": "python",
   "nbconvert_exporter": "python",
   "pygments_lexer": "ipython3",
   "version": "3.12.3"
  }
 },
 "nbformat": 4,
 "nbformat_minor": 5
}
