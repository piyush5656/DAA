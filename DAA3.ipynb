{
 "cells": [
  {
   "cell_type": "code",
   "execution_count": 5,
   "id": "87bc244f-7f95-43af-b714-45ab9638657d",
   "metadata": {},
   "outputs": [],
   "source": [
    "import heapq\n",
    "\n",
    "class Node:\n",
    "    def __init__(self, level, profit, weight, bound):\n",
    "        self.level =level\n",
    "        self.profit = profit\n",
    "        self.weight = weight\n",
    "        self.bound = bound\n",
    "\n",
    "    def _lt_(self, other): \n",
    "        return self.bound > other.bound \n",
    "\n",
    "\n",
    "def calculate_bound(node, n, capacity, weights, values): \n",
    "    if node.weight >= capacity:\n",
    "        return 0\n",
    "    bound = node.profit \n",
    "    j, total_weight = node.level + 1, node.weight \n",
    "    while j < n and total_weight + weights[j] <= capacity: \n",
    "        total_weight += weights[j] \n",
    "        bound += values[j]\n",
    "        j+=1\n",
    "    if j < n: \n",
    "        bound+= (capacity - total_weight) (values[j] / weights[j]) \n",
    "    return bound"
   ]
  },
  {
   "cell_type": "code",
   "execution_count": 11,
   "id": "09e54e9b-93bb-4ca7-9718-2063460336f8",
   "metadata": {},
   "outputs": [],
   "source": [
    "def knapsack_branch_and_bound (values, weights, capacity):\n",
    "    n = len(values)\n",
    "    queue = []\n",
    "    max_profit = 0 \n",
    "    root = Node(-1, 0, 0, calculate_bound (Node(-1, 0, 0, 0), n, capacity, weights, values)) \n",
    "    heapq.heappush(queue, root)\n",
    "    while queue:\n",
    "        node = heapq.heappop (queue) \n",
    "        if node.level == n - 1 or node.bound < max_profit: \n",
    "            continue\n",
    "\n",
    "        next_node = Node (node.level + 1, node.profit + values [node.level + 1], \n",
    "                          node.weight + weights [node.level + 1], 0) \n",
    "        if next_node.weight <= capacity and next_node.profit > max_profit: \n",
    "            max_profit = next_node.profit \n",
    "        next_node.bound = calculate_bound (next_node, n, capacity, weights, values) \n",
    "        if next_node.bound > max_profit: \n",
    "            heapq.heappush(queue, next_node)\n",
    "\n",
    "        next_node = Node (node.level + 1, node.profit, node.weight, 0) \n",
    "        next_node.bound = calculate_bound (next_node, n, capacity, weights, values) \n",
    "        if next_node.bound > max_profit: \n",
    "            heapq.heappush(queue, next_node)\n",
    "    return max_profit"
   ]
  },
  {
   "cell_type": "code",
   "execution_count": null,
   "id": "5279103a-8f7a-4fcb-ba3b-5e7180b07f35",
   "metadata": {},
   "outputs": [],
   "source": [
    "n = int(input(\"Enter number of items: \"))\n",
    "weights = [int(input(f\"Weight of item (i+1): \")) for i in range(n)]\n",
    "values = [int(input(f\"Value of item {1+1}: \")) for i in range(n)]\n",
    "capacity = int(input(\"Enter capacity of the knapsack: \"))\n",
    "print(f\"Maximum value in Knapsack = {knapsack_branch_and_bound(values, weights, capacity)}\")"
   ]
  }
 ],
 "metadata": {
  "kernelspec": {
   "display_name": "Python 3 (ipykernel)",
   "language": "python",
   "name": "python3"
  },
  "language_info": {
   "codemirror_mode": {
    "name": "ipython",
    "version": 3
   },
   "file_extension": ".py",
   "mimetype": "text/x-python",
   "name": "python",
   "nbconvert_exporter": "python",
   "pygments_lexer": "ipython3",
   "version": "3.12.3"
  }
 },
 "nbformat": 4,
 "nbformat_minor": 5
}
