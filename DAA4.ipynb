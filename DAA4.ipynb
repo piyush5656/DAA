{
 "cells": [
  {
   "cell_type": "code",
   "execution_count": 21,
   "id": "6122879f-a843-4f76-a5a2-ff18bc32dda8",
   "metadata": {},
   "outputs": [
    {
     "name": "stdin",
     "output_type": "stream",
     "text": [
      "Enter the size of the board (n):  8\n",
      "Enter the row for the first Queen (0-indexed):  0\n",
      "Enter the column for the first Queen (0-indexed):  0\n"
     ]
    },
    {
     "name": "stdout",
     "output_type": "stream",
     "text": [
      "No solution exists\n"
     ]
    }
   ],
   "source": [
    "'''def print_board(board, n):\n",
    "    for row in board:\n",
    "        print(\" \".join(\"Q\" if x == 1 else \".\" for x in row)) \n",
    "    print()\n",
    "\n",
    "\n",
    "def is_safe(board, row, col, n): \n",
    "    for i in range(col):\n",
    "        if board[row] [i] == 1:\n",
    "            return False\n",
    "    for i, j in zip(range(row, -1, -1), range(col, -1, -1)):\n",
    "        if board[i][j] == 1:\n",
    "            return False\n",
    "    for i, j in zip(range(row, n), range(col, -1, -1)):\n",
    "        if board[i][j] == 1:\n",
    "            return False\n",
    "    return True\n",
    "\n",
    "\n",
    "def solve_nqueens(board, col, n):\n",
    "    if col >= n:\n",
    "        return True \n",
    "    for i in range(n):\n",
    "        if is_safe(board, 1, col, n):\n",
    "            board[1] [col]=1\n",
    "            if solve_nqueens (board, col+1, n): \n",
    "                return True\n",
    "            board[1] [col] = 0\n",
    "\n",
    "    return False\n",
    "\n",
    "def nqueens (n, first_row, first_col):\n",
    "    board = [[0] * n for _ in range(n)] \n",
    "    board [first_row] [first_col] = 1 \n",
    "    if solve_nqueens (board, 0 if first_col != 0 else 1, n): \n",
    "        print_board(board, n)\n",
    "    else:\n",
    "        print(\"No solution exists\")\n",
    "\n",
    "\n",
    "n=int(input(\"Enter the size of the board (n): \"))\n",
    "first_row =int(input(\"Enter the row for the first Queen (0-indexed): \")) \n",
    "first_col =int(input(\"Enter the column for the first Queen (0-indexed): \"))\n",
    "\n",
    "nqueens (n, first_row, first_col)'''"
   ]
  },
  {
   "cell_type": "code",
   "execution_count": 24,
   "id": "b2952048-418c-4791-985c-552e9b31311d",
   "metadata": {},
   "outputs": [
    {
     "name": "stdin",
     "output_type": "stream",
     "text": [
      "Enter the size of the board (n):  8\n",
      "Enter the row for the first Queen (0-indexed):  0\n",
      "Enter the column for the first Queen (0-indexed):  0\n"
     ]
    },
    {
     "name": "stdout",
     "output_type": "stream",
     "text": [
      "Q . . . . . . .\n",
      ". . . . . . Q .\n",
      ". . . . Q . . .\n",
      ". . . . . . . Q\n",
      ". Q . . . . . .\n",
      ". . . Q . . . .\n",
      ". . . . . Q . .\n",
      ". . Q . . . . .\n",
      "\n"
     ]
    }
   ],
   "source": [
    "def print_board(board, n):\n",
    "    for row in board:\n",
    "        print(\" \".join(\"Q\" if x == 1 else \".\" for x in row)) \n",
    "    print()\n",
    "\n",
    "\n",
    "def is_safe(board, row, col, n): \n",
    "    for i in range(col):\n",
    "        if board[row][i] == 1:\n",
    "            return False\n",
    "    for i, j in zip(range(row, -1, -1), range(col, -1, -1)):\n",
    "        if board[i][j] == 1:\n",
    "            return False\n",
    "    for i, j in zip(range(row, n), range(col, -1, -1)):\n",
    "        if board[i][j] == 1:\n",
    "            return False\n",
    "    return True\n",
    "\n",
    "\n",
    "def solve_nqueens(board, col, n):\n",
    "    if col >= n:\n",
    "        return True \n",
    "    for i in range(n):\n",
    "        if is_safe(board, i, col, n):  # Use i instead of 1\n",
    "            board[i][col] = 1  # Place the queen\n",
    "            if solve_nqueens(board, col + 1, n): \n",
    "                return True\n",
    "            board[i][col] = 0  # Backtrack\n",
    "\n",
    "    return False\n",
    "\n",
    "def nqueens(n, first_row, first_col):\n",
    "    board = [[0] * n for _ in range(n)] \n",
    "    board[first_row][first_col] = 1 \n",
    "    if solve_nqueens(board, first_col + 1, n):  # Start from the next column\n",
    "        print_board(board, n)\n",
    "    else:\n",
    "        print(\"No solution exists\")\n",
    "\n",
    "\n",
    "n = int(input(\"Enter the size of the board (n): \"))\n",
    "first_row = int(input(\"Enter the row for the first Queen (0-indexed): \")) \n",
    "first_col = int(input(\"Enter the column for the first Queen (0-indexed): \"))\n",
    "\n",
    "nqueens(n, first_row, first_col)"
   ]
  },
  {
   "cell_type": "code",
   "execution_count": null,
   "id": "2fc2541c-0e6c-46f0-90ba-fd907981e811",
   "metadata": {},
   "outputs": [],
   "source": []
  }
 ],
 "metadata": {
  "kernelspec": {
   "display_name": "Python 3 (ipykernel)",
   "language": "python",
   "name": "python3"
  },
  "language_info": {
   "codemirror_mode": {
    "name": "ipython",
    "version": 3
   },
   "file_extension": ".py",
   "mimetype": "text/x-python",
   "name": "python",
   "nbconvert_exporter": "python",
   "pygments_lexer": "ipython3",
   "version": "3.12.3"
  }
 },
 "nbformat": 4,
 "nbformat_minor": 5
}
