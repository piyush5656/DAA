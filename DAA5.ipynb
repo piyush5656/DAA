{
 "cells": [
  {
   "cell_type": "code",
   "execution_count": null,
   "id": "e63d9513-45e3-4279-93d2-210a03c89335",
   "metadata": {},
   "outputs": [],
   "source": [
    "import random  # Import the random module\n",
    "\n",
    "def deterministic_quick_sort(arr):\n",
    "    if len(arr) <= 1: \n",
    "        return arr\n",
    "    pivot = arr[len(arr) // 2] \n",
    "    left = [x for x in arr if x < pivot]\n",
    "    middle = [x for x in arr if x == pivot] \n",
    "    right = [x for x in arr if x > pivot]\n",
    "    return deterministic_quick_sort(left) + middle + deterministic_quick_sort(right)\n",
    "\n",
    "def randomized_quick_sort(arr): \n",
    "    if len(arr) <= 1:\n",
    "        return arr\n",
    "    pivot = arr[random.randint(0, len(arr) - 1)] \n",
    "    left = [x for x in arr if x < pivot] \n",
    "    middle = [x for x in arr if x == pivot] \n",
    "    right = [x for x in arr if x > pivot]\n",
    "    return randomized_quick_sort(left) + middle + randomized_quick_sort(right)\n",
    "\n",
    "# Input from the user\n",
    "arr = list(map(int, input(\"Enter the elements of the array (space-separated): \").split()))\n",
    "\n",
    "# Sorting using both methods\n",
    "deterministic_sorted = deterministic_quick_sort(arr)\n",
    "print(f\"Sorted array using Deterministic Quick Sort: {deterministic_sorted}\")\n",
    "\n",
    "randomized_sorted = randomized_quick_sort(arr)\n",
    "print(f\"Sorted array using Randomized Quick Sort: {randomized_sorted}\")"
   ]
  },
  {
   "cell_type": "code",
   "execution_count": null,
   "id": "437d7fda-b9d7-4c66-885a-54188162f9a5",
   "metadata": {},
   "outputs": [],
   "source": []
  }
 ],
 "metadata": {
  "kernelspec": {
   "display_name": "Python 3 (ipykernel)",
   "language": "python",
   "name": "python3"
  },
  "language_info": {
   "codemirror_mode": {
    "name": "ipython",
    "version": 3
   },
   "file_extension": ".py",
   "mimetype": "text/x-python",
   "name": "python",
   "nbconvert_exporter": "python",
   "pygments_lexer": "ipython3",
   "version": "3.12.3"
  }
 },
 "nbformat": 4,
 "nbformat_minor": 5
}
